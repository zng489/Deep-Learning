{
 "cells": [
  {
   "cell_type": "code",
   "execution_count": 113,
   "id": "dff17556",
   "metadata": {},
   "outputs": [
    {
     "name": "stdout",
     "output_type": "stream",
     "text": [
      "2.3.0\n"
     ]
    }
   ],
   "source": [
    "# Import Tensor Flow\n",
    "import tensorflow as  tf\n",
    "print(tf.__version__)"
   ]
  },
  {
   "cell_type": "code",
   "execution_count": 3,
   "id": "ea8e473b",
   "metadata": {},
   "outputs": [
    {
     "data": {
      "text/plain": [
       "<tf.Tensor: shape=(), dtype=int32, numpy=7>"
      ]
     },
     "execution_count": 3,
     "metadata": {},
     "output_type": "execute_result"
    }
   ],
   "source": [
    "# Create Tensors with tf.constant()\n",
    "scalar = tf.constant(7)\n",
    "scalar"
   ]
  },
  {
   "cell_type": "code",
   "execution_count": 4,
   "id": "1a091e28",
   "metadata": {},
   "outputs": [
    {
     "data": {
      "text/plain": [
       "0"
      ]
     },
     "execution_count": 4,
     "metadata": {},
     "output_type": "execute_result"
    }
   ],
   "source": [
    "# Check the number of dimensions of a tensor (ndim stands for number of dimensions)\n",
    "scalar.ndim"
   ]
  },
  {
   "cell_type": "code",
   "execution_count": 5,
   "id": "a8aede2c",
   "metadata": {},
   "outputs": [
    {
     "data": {
      "text/plain": [
       "<tf.Tensor: shape=(2,), dtype=int32, numpy=array([10, 10])>"
      ]
     },
     "execution_count": 5,
     "metadata": {},
     "output_type": "execute_result"
    }
   ],
   "source": [
    "# Creater a vector\n",
    "vector = tf.constant([10,10])\n",
    "vector"
   ]
  },
  {
   "cell_type": "code",
   "execution_count": 6,
   "id": "d1d4b1f3",
   "metadata": {},
   "outputs": [
    {
     "data": {
      "text/plain": [
       "1"
      ]
     },
     "execution_count": 6,
     "metadata": {},
     "output_type": "execute_result"
    }
   ],
   "source": [
    "# Check the dimension of our vector\n",
    "vector.ndim"
   ]
  },
  {
   "cell_type": "code",
   "execution_count": 7,
   "id": "630e34b5",
   "metadata": {},
   "outputs": [
    {
     "data": {
      "text/plain": [
       "<tf.Tensor: shape=(2, 2), dtype=int32, numpy=\n",
       "array([[10,  7],\n",
       "       [ 7, 10]])>"
      ]
     },
     "execution_count": 7,
     "metadata": {},
     "output_type": "execute_result"
    }
   ],
   "source": [
    "# Create a matrix (has more than 1 dimension)\n",
    "matrix = tf.constant([[10,7], [7,10]])\n",
    "\n",
    "matrix"
   ]
  },
  {
   "cell_type": "code",
   "execution_count": 8,
   "id": "c40d125a",
   "metadata": {},
   "outputs": [
    {
     "data": {
      "text/plain": [
       "2"
      ]
     },
     "execution_count": 8,
     "metadata": {},
     "output_type": "execute_result"
    }
   ],
   "source": [
    "matrix.ndim"
   ]
  },
  {
   "cell_type": "code",
   "execution_count": 9,
   "id": "1e7c734c",
   "metadata": {},
   "outputs": [
    {
     "data": {
      "text/plain": [
       "<tf.Tensor: shape=(3, 2), dtype=float16, numpy=\n",
       "array([[10.,  7.],\n",
       "       [ 3.,  2.],\n",
       "       [ 8.,  9.]], dtype=float16)>"
      ]
     },
     "execution_count": 9,
     "metadata": {},
     "output_type": "execute_result"
    }
   ],
   "source": [
    "# Create another matrix \n",
    "\n",
    "another_matrix = tf.constant([[10.,7.],\n",
    "                              [3.,2.],\n",
    "                              [8.,9.]], dtype=tf.float16)\n",
    "                                            \n",
    "another_matrix"
   ]
  },
  {
   "cell_type": "code",
   "execution_count": 10,
   "id": "d84414f4",
   "metadata": {},
   "outputs": [
    {
     "data": {
      "text/plain": [
       "2"
      ]
     },
     "execution_count": 10,
     "metadata": {},
     "output_type": "execute_result"
    }
   ],
   "source": [
    "another_matrix.ndim"
   ]
  },
  {
   "cell_type": "code",
   "execution_count": 11,
   "id": "b3f4d710",
   "metadata": {},
   "outputs": [
    {
     "data": {
      "text/plain": [
       "<tf.Tensor: shape=(3, 2, 3), dtype=int32, numpy=\n",
       "array([[[ 1,  2,  3],\n",
       "        [ 4,  5,  6]],\n",
       "\n",
       "       [[ 7,  8,  9],\n",
       "        [10, 11, 12]],\n",
       "\n",
       "       [[13, 14, 15],\n",
       "        [16, 17, 18]]])>"
      ]
     },
     "execution_count": 11,
     "metadata": {},
     "output_type": "execute_result"
    }
   ],
   "source": [
    "tensor = tf.constant([[[1,2,3],\n",
    "                     [4,5,6]],\n",
    "                      \n",
    "                    [[7,8,9],\n",
    "                     [10,11,12]],\n",
    "                      \n",
    "                      [[13,14,15],\n",
    "                      [16,17,18]]]) # --> shape(3,2,3)\n",
    "\n",
    "\n",
    "#[1,2,3] --> shape(3,)\n",
    "\n",
    "#[[1,2,3],\n",
    "# [1,2,3]] --> shape(2,3)\n",
    "\n",
    "\n",
    "\n",
    "tensor"
   ]
  },
  {
   "cell_type": "code",
   "execution_count": 12,
   "id": "7d8a51d1",
   "metadata": {},
   "outputs": [
    {
     "data": {
      "text/plain": [
       "3"
      ]
     },
     "execution_count": 12,
     "metadata": {},
     "output_type": "execute_result"
    }
   ],
   "source": [
    "tensor.ndim"
   ]
  },
  {
   "cell_type": "code",
   "execution_count": 13,
   "id": "b89efc54",
   "metadata": {},
   "outputs": [],
   "source": [
    "# what we`ve got created so far:\n",
    "\n",
    "# scalar: 1 single number\n",
    "\n",
    "# vector: a number with direction \n",
    "\n",
    "# matrix: a 2-dimensional array of numbers\n",
    "\n",
    "# tensor: an n-dimensional array of number"
   ]
  },
  {
   "cell_type": "code",
   "execution_count": 14,
   "id": "4d92dfe5",
   "metadata": {},
   "outputs": [
    {
     "data": {
      "text/plain": [
       "tensorflow.python.ops.variables.Variable"
      ]
     },
     "execution_count": 14,
     "metadata": {},
     "output_type": "execute_result"
    }
   ],
   "source": [
    "tf.Variable"
   ]
  },
  {
   "cell_type": "code",
   "execution_count": 15,
   "id": "b4985d9a",
   "metadata": {},
   "outputs": [],
   "source": [
    "################################################################\n",
    "################################################################\n",
    "################################################################"
   ]
  },
  {
   "cell_type": "code",
   "execution_count": 16,
   "id": "4a6ffd5b",
   "metadata": {},
   "outputs": [
    {
     "data": {
      "text/html": [
       "<div>\n",
       "<style scoped>\n",
       "    .dataframe tbody tr th:only-of-type {\n",
       "        vertical-align: middle;\n",
       "    }\n",
       "\n",
       "    .dataframe tbody tr th {\n",
       "        vertical-align: top;\n",
       "    }\n",
       "\n",
       "    .dataframe thead th {\n",
       "        text-align: right;\n",
       "    }\n",
       "</style>\n",
       "<table border=\"1\" class=\"dataframe\">\n",
       "  <thead>\n",
       "    <tr style=\"text-align: right;\">\n",
       "      <th></th>\n",
       "      <th>Entry</th>\n",
       "      <th>Molar ratio</th>\n",
       "      <th>T</th>\n",
       "      <th>theory_Mn</th>\n",
       "      <th>Yield</th>\n",
       "      <th>Mn</th>\n",
       "      <th>Mw</th>\n",
       "      <th>DM</th>\n",
       "      <th>DSC</th>\n",
       "      <th>cristalinidade</th>\n",
       "      <th>...</th>\n",
       "      <th>time</th>\n",
       "      <th>mn_110</th>\n",
       "      <th>mw_110</th>\n",
       "      <th>DPI_110</th>\n",
       "      <th>mn_120</th>\n",
       "      <th>mw_120</th>\n",
       "      <th>DPI_120</th>\n",
       "      <th>mn_130</th>\n",
       "      <th>mw_130</th>\n",
       "      <th>DPI_130</th>\n",
       "    </tr>\n",
       "    <tr>\n",
       "      <th>Catalyst</th>\n",
       "      <th></th>\n",
       "      <th></th>\n",
       "      <th></th>\n",
       "      <th></th>\n",
       "      <th></th>\n",
       "      <th></th>\n",
       "      <th></th>\n",
       "      <th></th>\n",
       "      <th></th>\n",
       "      <th></th>\n",
       "      <th></th>\n",
       "      <th></th>\n",
       "      <th></th>\n",
       "      <th></th>\n",
       "      <th></th>\n",
       "      <th></th>\n",
       "      <th></th>\n",
       "      <th></th>\n",
       "      <th></th>\n",
       "      <th></th>\n",
       "      <th></th>\n",
       "    </tr>\n",
       "  </thead>\n",
       "  <tbody>\n",
       "    <tr>\n",
       "      <th>BMI.In2Cl7</th>\n",
       "      <td>1</td>\n",
       "      <td>1-500</td>\n",
       "      <td>130</td>\n",
       "      <td>1512.00</td>\n",
       "      <td>98</td>\n",
       "      <td>2450</td>\n",
       "      <td>3706</td>\n",
       "      <td>1.51</td>\n",
       "      <td>NaN</td>\n",
       "      <td>NaN</td>\n",
       "      <td>...</td>\n",
       "      <td>2.0</td>\n",
       "      <td>226.0</td>\n",
       "      <td>233.0</td>\n",
       "      <td>1.030973</td>\n",
       "      <td>281.0</td>\n",
       "      <td>784.0</td>\n",
       "      <td>2.790036</td>\n",
       "      <td>430.0</td>\n",
       "      <td>665.0</td>\n",
       "      <td>1.546512</td>\n",
       "    </tr>\n",
       "    <tr>\n",
       "      <th>BMI.In2Cl7</th>\n",
       "      <td>2</td>\n",
       "      <td>1-800</td>\n",
       "      <td>130</td>\n",
       "      <td>872.00</td>\n",
       "      <td>98</td>\n",
       "      <td>1498</td>\n",
       "      <td>2207</td>\n",
       "      <td>1.47</td>\n",
       "      <td>NaN</td>\n",
       "      <td>NaN</td>\n",
       "      <td>...</td>\n",
       "      <td>4.0</td>\n",
       "      <td>254.0</td>\n",
       "      <td>281.0</td>\n",
       "      <td>1.106299</td>\n",
       "      <td>313.0</td>\n",
       "      <td>365.0</td>\n",
       "      <td>1.166134</td>\n",
       "      <td>315.0</td>\n",
       "      <td>425.0</td>\n",
       "      <td>1.349206</td>\n",
       "    </tr>\n",
       "    <tr>\n",
       "      <th>BMI.In2Cl7</th>\n",
       "      <td>3</td>\n",
       "      <td>1-650</td>\n",
       "      <td>120</td>\n",
       "      <td>726.54</td>\n",
       "      <td>98</td>\n",
       "      <td>1571</td>\n",
       "      <td>1805</td>\n",
       "      <td>1.14</td>\n",
       "      <td>NaN</td>\n",
       "      <td>NaN</td>\n",
       "      <td>...</td>\n",
       "      <td>6.0</td>\n",
       "      <td>221.0</td>\n",
       "      <td>231.0</td>\n",
       "      <td>1.045249</td>\n",
       "      <td>289.0</td>\n",
       "      <td>323.0</td>\n",
       "      <td>1.117647</td>\n",
       "      <td>437.0</td>\n",
       "      <td>649.0</td>\n",
       "      <td>1.485126</td>\n",
       "    </tr>\n",
       "    <tr>\n",
       "      <th>BMI.In2Cl7</th>\n",
       "      <td>4</td>\n",
       "      <td>1-650</td>\n",
       "      <td>120</td>\n",
       "      <td>972.50</td>\n",
       "      <td>97</td>\n",
       "      <td>1497</td>\n",
       "      <td>2070</td>\n",
       "      <td>1.38</td>\n",
       "      <td>NaN</td>\n",
       "      <td>NaN</td>\n",
       "      <td>...</td>\n",
       "      <td>8.0</td>\n",
       "      <td>275.0</td>\n",
       "      <td>342.0</td>\n",
       "      <td>1.243636</td>\n",
       "      <td>308.0</td>\n",
       "      <td>390.0</td>\n",
       "      <td>1.266234</td>\n",
       "      <td>484.0</td>\n",
       "      <td>828.0</td>\n",
       "      <td>1.710744</td>\n",
       "    </tr>\n",
       "    <tr>\n",
       "      <th>BMI.In2Cl7</th>\n",
       "      <td>5</td>\n",
       "      <td>1-650</td>\n",
       "      <td>120</td>\n",
       "      <td>825.58</td>\n",
       "      <td>97</td>\n",
       "      <td>1515</td>\n",
       "      <td>2130</td>\n",
       "      <td>1.40</td>\n",
       "      <td>NaN</td>\n",
       "      <td>NaN</td>\n",
       "      <td>...</td>\n",
       "      <td>10.0</td>\n",
       "      <td>313.0</td>\n",
       "      <td>365.0</td>\n",
       "      <td>1.166134</td>\n",
       "      <td>422.0</td>\n",
       "      <td>653.0</td>\n",
       "      <td>1.547393</td>\n",
       "      <td>585.0</td>\n",
       "      <td>994.0</td>\n",
       "      <td>1.699145</td>\n",
       "    </tr>\n",
       "  </tbody>\n",
       "</table>\n",
       "<p>5 rows × 23 columns</p>\n",
       "</div>"
      ],
      "text/plain": [
       "            Entry Molar ratio   T   theory_Mn  Yield     Mn    Mw    DM  DSC  \\\n",
       "Catalyst                                                                       \n",
       "BMI.In2Cl7      1       1-500  130    1512.00      98  2450  3706  1.51  NaN   \n",
       "BMI.In2Cl7      2       1-800  130     872.00      98  1498  2207  1.47  NaN   \n",
       "BMI.In2Cl7      3       1-650  120     726.54      98  1571  1805  1.14  NaN   \n",
       "BMI.In2Cl7      4       1-650  120     972.50      97  1497  2070  1.38  NaN   \n",
       "BMI.In2Cl7      5       1-650  120     825.58      97  1515  2130  1.40  NaN   \n",
       "\n",
       "            cristalinidade  ...  time  mn_110  mw_110   DPI_110  mn_120  \\\n",
       "Catalyst                    ...                                           \n",
       "BMI.In2Cl7             NaN  ...   2.0   226.0   233.0  1.030973   281.0   \n",
       "BMI.In2Cl7             NaN  ...   4.0   254.0   281.0  1.106299   313.0   \n",
       "BMI.In2Cl7             NaN  ...   6.0   221.0   231.0  1.045249   289.0   \n",
       "BMI.In2Cl7             NaN  ...   8.0   275.0   342.0  1.243636   308.0   \n",
       "BMI.In2Cl7             NaN  ...  10.0   313.0   365.0  1.166134   422.0   \n",
       "\n",
       "            mw_120   DPI_120  mn_130  mw_130   DPI_130  \n",
       "Catalyst                                                \n",
       "BMI.In2Cl7   784.0  2.790036   430.0   665.0  1.546512  \n",
       "BMI.In2Cl7   365.0  1.166134   315.0   425.0  1.349206  \n",
       "BMI.In2Cl7   323.0  1.117647   437.0   649.0  1.485126  \n",
       "BMI.In2Cl7   390.0  1.266234   484.0   828.0  1.710744  \n",
       "BMI.In2Cl7   653.0  1.547393   585.0   994.0  1.699145  \n",
       "\n",
       "[5 rows x 23 columns]"
      ]
     },
     "execution_count": 16,
     "metadata": {},
     "output_type": "execute_result"
    }
   ],
   "source": [
    "import pandas as pd\n",
    "import numpy as np\n",
    "\n",
    "df = pd.read_csv('plas.csv', index_col=0)\n",
    "df.head(5)"
   ]
  },
  {
   "cell_type": "code",
   "execution_count": 57,
   "id": "c45929d2",
   "metadata": {},
   "outputs": [],
   "source": [
    "X = df['Mn'].values\n",
    "y = df['Mw'].values"
   ]
  },
  {
   "cell_type": "code",
   "execution_count": 58,
   "id": "af1082ae",
   "metadata": {},
   "outputs": [
    {
     "data": {
      "text/plain": [
       "(array([2450, 1498, 1571, 1497, 1515, 1196,  818, 2172, 1625, 1105,  810,\n",
       "        1270,  987,  509, 2115, 1671, 2002, 1275, 2310,  803,  841,  323,\n",
       "         300,  249,  274,  271,  275,  256], dtype=int64),\n",
       " array([3706, 2207, 1805, 2070, 2130, 1884, 1347, 2426, 2745, 1617, 1603,\n",
       "        2020, 1167,  614, 2654, 2901, 2514, 1741, 2532,  917, 1223,  385,\n",
       "         352,  257,  297,  283,  284,  258], dtype=int64))"
      ]
     },
     "execution_count": 58,
     "metadata": {},
     "output_type": "execute_result"
    }
   ],
   "source": [
    "X,y"
   ]
  },
  {
   "cell_type": "code",
   "execution_count": 59,
   "id": "ab40fcb8",
   "metadata": {},
   "outputs": [],
   "source": [
    "#X = tf.constant(X, dtype=tf.float32)\n",
    "##X = tf.constant(X)\n",
    "##y = tf.constant(y)\n",
    "##X,y"
   ]
  },
  {
   "cell_type": "code",
   "execution_count": 60,
   "id": "d4b47290",
   "metadata": {},
   "outputs": [
    {
     "data": {
      "text/plain": [
       "<tf.Tensor: shape=(28,), dtype=float32, numpy=\n",
       "array([2450., 1498., 1571., 1497., 1515., 1196.,  818., 2172., 1625.,\n",
       "       1105.,  810., 1270.,  987.,  509., 2115., 1671., 2002., 1275.,\n",
       "       2310.,  803.,  841.,  323.,  300.,  249.,  274.,  271.,  275.,\n",
       "        256.], dtype=float32)>"
      ]
     },
     "execution_count": 60,
     "metadata": {},
     "output_type": "execute_result"
    }
   ],
   "source": [
    "X_tf = tf.cast(tf.constant(X), dtype=tf.float32)\n",
    "X_tf"
   ]
  },
  {
   "cell_type": "code",
   "execution_count": 61,
   "id": "3f7af8d0",
   "metadata": {},
   "outputs": [
    {
     "data": {
      "text/plain": [
       "<tf.Tensor: shape=(28,), dtype=float32, numpy=\n",
       "array([3706., 2207., 1805., 2070., 2130., 1884., 1347., 2426., 2745.,\n",
       "       1617., 1603., 2020., 1167.,  614., 2654., 2901., 2514., 1741.,\n",
       "       2532.,  917., 1223.,  385.,  352.,  257.,  297.,  283.,  284.,\n",
       "        258.], dtype=float32)>"
      ]
     },
     "execution_count": 61,
     "metadata": {},
     "output_type": "execute_result"
    }
   ],
   "source": [
    "y_tf = tf.cast(tf.constant(y), dtype=tf.float32)\n",
    "y_tf"
   ]
  },
  {
   "cell_type": "code",
   "execution_count": 62,
   "id": "6d5dfd83",
   "metadata": {},
   "outputs": [
    {
     "data": {
      "text/plain": [
       "(<tf.Tensor: shape=(28,), dtype=float32, numpy=\n",
       " array([2450., 1498., 1571., 1497., 1515., 1196.,  818., 2172., 1625.,\n",
       "        1105.,  810., 1270.,  987.,  509., 2115., 1671., 2002., 1275.,\n",
       "        2310.,  803.,  841.,  323.,  300.,  249.,  274.,  271.,  275.,\n",
       "         256.], dtype=float32)>,\n",
       " <tf.Tensor: shape=(28,), dtype=float32, numpy=\n",
       " array([3706., 2207., 1805., 2070., 2130., 1884., 1347., 2426., 2745.,\n",
       "        1617., 1603., 2020., 1167.,  614., 2654., 2901., 2514., 1741.,\n",
       "        2532.,  917., 1223.,  385.,  352.,  257.,  297.,  283.,  284.,\n",
       "         258.], dtype=float32)>)"
      ]
     },
     "execution_count": 62,
     "metadata": {},
     "output_type": "execute_result"
    }
   ],
   "source": [
    "X_tf,y_tf"
   ]
  },
  {
   "cell_type": "code",
   "execution_count": 63,
   "id": "6d4e80fb",
   "metadata": {
    "scrolled": true
   },
   "outputs": [],
   "source": [
    "#pip install tensorflow"
   ]
  },
  {
   "cell_type": "code",
   "execution_count": 64,
   "id": "7e990e4f",
   "metadata": {},
   "outputs": [],
   "source": [
    "import pandas as pd\n",
    "import numpy as np\n",
    "\n",
    "import matplotlib.pyplot as plt"
   ]
  },
  {
   "cell_type": "raw",
   "id": "adf9d5dd",
   "metadata": {},
   "source": [
    "# dasdasd\n",
    "#asdasdasd\n",
    "@asdasda"
   ]
  },
  {
   "cell_type": "code",
   "execution_count": null,
   "id": "05557cd0",
   "metadata": {},
   "outputs": [],
   "source": [
    "@ tf.keras.layers.Dense(1)\n",
    "@ keras.layers.Dense(units, activation=None, \n",
    "@                    use_bias=True, \n",
    "@                    kernel_initializer=’glorot_uniform’, \n",
    "@                    bias_initializer=’zeros’, \n",
    "@                    kernel_regularizer=None, \n",
    "@                    bias_regularizer=None, \n",
    "@                    activity_regularizer=None, \n",
    "@                    kernel_constraint=None, \n",
    "@                    bias_constraint=None)\n",
    "@\n",
    "@\n",
    "@\n",
    "@\n",
    "@"
   ]
  },
  {
   "cell_type": "code",
   "execution_count": 68,
   "id": "8ded3b70",
   "metadata": {},
   "outputs": [
    {
     "name": "stdout",
     "output_type": "stream",
     "text": [
      "Epoch 1/5\n",
      "1/1 [==============================] - 0s 2ms/step - loss: 2771.2332 - mae: 2771.2332\n",
      "Epoch 2/5\n",
      "1/1 [==============================] - 0s 1ms/step - loss: 10280.2080 - mae: 10280.2080\n",
      "Epoch 3/5\n",
      "1/1 [==============================] - 0s 1000us/step - loss: 2771.2332 - mae: 2771.2332\n",
      "Epoch 4/5\n",
      "1/1 [==============================] - 0s 1ms/step - loss: 10280.2080 - mae: 10280.2080\n",
      "Epoch 5/5\n",
      "1/1 [==============================] - 0s 1ms/step - loss: 2771.2329 - mae: 2771.2329\n"
     ]
    },
    {
     "data": {
      "text/plain": [
       "<tensorflow.python.keras.callbacks.History at 0x21e5eb5d748>"
      ]
     },
     "execution_count": 68,
     "metadata": {},
     "output_type": "execute_result"
    }
   ],
   "source": [
    "# Creating a model\n",
    "model = tf.keras.Sequential([\n",
    "    tf.keras.layers.Dense(1) # Dense(1) one number by one number\n",
    "])\n",
    "#model.add(tf.keras.layers.Dense(1))\n",
    "\n",
    "#           (Dense)\n",
    "# Input     Hidden    Output\n",
    "#            O         \n",
    "#    x       O          P\n",
    "#    x       O          P\n",
    "#    x       O          P\n",
    "#            O\n",
    "\n",
    "# Compile the model\n",
    "model.compile(loss=tf.keras.losses.mae, # loss = mean(abs(y_true - y_pred), axis = -1)\n",
    "             optimizer=tf.keras.optimizers.SGD(), # SGD Gradient Descent\n",
    "             metrics=['mae'])\n",
    "\n",
    "# Fit the model\n",
    "model.fit(X_tf,y_tf, epochs=5)   # The number of epochs is a hyperparameter that defines the number times that the learning algorithm will work through the entire training dataset\n",
    "\n",
    "# Evaluate the model\n",
    "#model.evualuate(X_test, y_test)"
   ]
  },
  {
   "cell_type": "code",
   "execution_count": 69,
   "id": "2d403385",
   "metadata": {},
   "outputs": [
    {
     "name": "stdout",
     "output_type": "stream",
     "text": [
      "WARNING:tensorflow:6 out of the last 11 calls to <function Model.make_predict_function.<locals>.predict_function at 0x0000021E5EB18158> triggered tf.function retracing. Tracing is expensive and the excessive number of tracings could be due to (1) creating @tf.function repeatedly in a loop, (2) passing tensors with different shapes, (3) passing Python objects instead of tensors. For (1), please define your @tf.function outside of the loop. For (2), @tf.function has experimental_relax_shapes=True option that relaxes argument shapes that can avoid unnecessary retracing. For (3), please refer to https://www.tensorflow.org/tutorials/customization/performance#python_or_tensor_args and https://www.tensorflow.org/api_docs/python/tf/function for  more details.\n"
     ]
    },
    {
     "data": {
      "text/plain": [
       "array([[25411.793]], dtype=float32)"
      ]
     },
     "execution_count": 69,
     "metadata": {},
     "output_type": "execute_result"
    }
   ],
   "source": [
    "model.predict([2450])"
   ]
  },
  {
   "cell_type": "code",
   "execution_count": 106,
   "id": "eaf7c0ee",
   "metadata": {},
   "outputs": [],
   "source": [
    "#########################################"
   ]
  },
  {
   "cell_type": "code",
   "execution_count": 70,
   "id": "0d080991",
   "metadata": {
    "scrolled": true
   },
   "outputs": [
    {
     "name": "stdout",
     "output_type": "stream",
     "text": [
      "Epoch 1/5\n",
      "1/1 [==============================] - 0s 1ms/step - loss: 1520.0177 - mae: 1520.0177\n",
      "Epoch 2/5\n",
      "1/1 [==============================] - 0s 1ms/step - loss: 62785.7500 - mae: 62785.7500\n",
      "Epoch 3/5\n",
      "1/1 [==============================] - 0s 1ms/step - loss: 1569.2500 - mae: 1569.2500\n",
      "Epoch 4/5\n",
      "1/1 [==============================] - 0s 1ms/step - loss: 1569.2400 - mae: 1569.2400\n",
      "Epoch 5/5\n",
      "1/1 [==============================] - 0s 1ms/step - loss: 1569.2299 - mae: 1569.2299\n"
     ]
    },
    {
     "data": {
      "text/plain": [
       "<tensorflow.python.keras.callbacks.History at 0x21e5ec107b8>"
      ]
     },
     "execution_count": 70,
     "metadata": {},
     "output_type": "execute_result"
    }
   ],
   "source": [
    "# Let`s see some wasy if we can get a better model.\n",
    "# Methods to improve the model created.\n",
    "model = tf.keras.Sequential([\n",
    "    tf.keras.layers.Dense(100, activation='relu'),\n",
    "    tf.keras.layers.Dense(1) # Dense(1) one number by one number\n",
    "])\n",
    "#model.add(tf.keras.layers.Dense(1))\n",
    "\n",
    "\n",
    "# Compile the model\n",
    "model.compile(loss=tf.keras.losses.mae, # loss = mean(abs(y_true - y_pred), axis = -1)\n",
    "             optimizer=tf.keras.optimizers.SGD(), # SGD Gradient Descent\n",
    "             metrics=['mae'])\n",
    "\n",
    "\n",
    "\n",
    "# Fit the model\n",
    "model.fit(X_tf, y_tf , epochs=5)   \n",
    "# The number of epochs is a hyperparameter that defines the number times that the learning algorithm will work through the entire training dataset\n",
    "# As the number of epochs increases, more number of times the weight are changed in the neural network and the curve goes from underfitting to optimal to overfitting curve.\n",
    "\n",
    "\n",
    "\n",
    "# Evaluate the model\n",
    "#model.evualuate(X_test, y_test)"
   ]
  },
  {
   "cell_type": "code",
   "execution_count": 71,
   "id": "e954a8e8",
   "metadata": {},
   "outputs": [
    {
     "name": "stdout",
     "output_type": "stream",
     "text": [
      "WARNING:tensorflow:6 out of the last 11 calls to <function Model.make_predict_function.<locals>.predict_function at 0x0000021E5EC799D8> triggered tf.function retracing. Tracing is expensive and the excessive number of tracings could be due to (1) creating @tf.function repeatedly in a loop, (2) passing tensors with different shapes, (3) passing Python objects instead of tensors. For (1), please define your @tf.function outside of the loop. For (2), @tf.function has experimental_relax_shapes=True option that relaxes argument shapes that can avoid unnecessary retracing. For (3), please refer to https://www.tensorflow.org/tutorials/customization/performance#python_or_tensor_args and https://www.tensorflow.org/api_docs/python/tf/function for  more details.\n"
     ]
    },
    {
     "data": {
      "text/plain": [
       "array([[0.02999999]], dtype=float32)"
      ]
     },
     "execution_count": 71,
     "metadata": {},
     "output_type": "execute_result"
    }
   ],
   "source": [
    "model.predict([2450])"
   ]
  },
  {
   "cell_type": "raw",
   "id": "5156bfe7",
   "metadata": {},
   "source": [
    "# 1. Create a model (specified to your problem)\n",
    "model = tf.keras.Sequential([tf.keras.layers.Dense(1)])\n",
    "\n",
    "# 2. Compile the model\n",
    "model.compile(loss=tf.keras.losses.mae,\n",
    "              optimizer=tf.keras.optimizers.SGD(),\n",
    "              metrics=[\"mae\"])\n",
    "              \n",
    "# 3. Fit the model\n",
    "model.fit(X_train_subset, y_train_subset, epochs=5)"
   ]
  },
  {
   "cell_type": "raw",
   "id": "a28fb00e",
   "metadata": {},
   "source": [
    "# 1. Create a model (specified to your problem)\n",
    "model = tf.keras.Sequential([\n",
    "    tf.keras.layers.Dense(100, activation=\"relu\"),\n",
    "    tf.keras.layers.Dense(100, activation=\"relu\"),\n",
    "    tf.keras.layers.Dense(100, activation=\"relu\"),\n",
    "    tf.keras.layers.Dense(1)\n",
    "    ])\n",
    "\n",
    "# 2. Compile the model\n",
    "model.compile(loss=tf.keras.losses.mae,\n",
    "              optimizer=tf.keras.optimizers.Adam(lr=0.0001),\n",
    "              metrics=[\"mae\"])\n",
    "              \n",
    "# 3. Fit the model\n",
    "model.fit(X_train_subset, y_train_subset, epochs=5)"
   ]
  },
  {
   "cell_type": "code",
   "execution_count": 72,
   "id": "7b7e6d81",
   "metadata": {},
   "outputs": [],
   "source": [
    "# Evaluting a model\n",
    "\n",
    "# Build a model --> fit it --> Evaluate it --> Tweak a model --> fit it \n",
    "# --> evaluate it --> tweak it ...."
   ]
  },
  {
   "cell_type": "code",
   "execution_count": 73,
   "id": "19b73277",
   "metadata": {},
   "outputs": [
    {
     "data": {
      "text/plain": [
       "((28,), (28,))"
      ]
     },
     "execution_count": 73,
     "metadata": {},
     "output_type": "execute_result"
    }
   ],
   "source": [
    "X.shape, y.shape"
   ]
  },
  {
   "cell_type": "code",
   "execution_count": 74,
   "id": "6d396c42",
   "metadata": {},
   "outputs": [
    {
     "data": {
      "text/plain": [
       "(array([2450, 1498, 1571, 1497, 1515, 1196,  818, 2172, 1625, 1105,  810,\n",
       "        1270,  987,  509, 2115, 1671, 2002, 1275, 2310,  803,  841,  323,\n",
       "         300,  249,  274,  271,  275,  256], dtype=int64),\n",
       " array([3706, 2207, 1805, 2070, 2130, 1884, 1347, 2426, 2745, 1617, 1603,\n",
       "        2020, 1167,  614, 2654, 2901, 2514, 1741, 2532,  917, 1223,  385,\n",
       "         352,  257,  297,  283,  284,  258], dtype=int64))"
      ]
     },
     "execution_count": 74,
     "metadata": {},
     "output_type": "execute_result"
    }
   ],
   "source": [
    "X,y"
   ]
  },
  {
   "cell_type": "code",
   "execution_count": 75,
   "id": "aa1c065a",
   "metadata": {},
   "outputs": [
    {
     "data": {
      "text/plain": [
       "(2450, 3706)"
      ]
     },
     "execution_count": 75,
     "metadata": {},
     "output_type": "execute_result"
    }
   ],
   "source": [
    "X[0],y[0]"
   ]
  },
  {
   "cell_type": "code",
   "execution_count": 76,
   "id": "c0292954",
   "metadata": {},
   "outputs": [
    {
     "data": {
      "text/plain": [
       "(<tf.Tensor: shape=(28,), dtype=int64, numpy=\n",
       " array([2450, 1498, 1571, 1497, 1515, 1196,  818, 2172, 1625, 1105,  810,\n",
       "        1270,  987,  509, 2115, 1671, 2002, 1275, 2310,  803,  841,  323,\n",
       "         300,  249,  274,  271,  275,  256], dtype=int64)>,\n",
       " <tf.Tensor: shape=(28,), dtype=int64, numpy=\n",
       " array([3706, 2207, 1805, 2070, 2130, 1884, 1347, 2426, 2745, 1617, 1603,\n",
       "        2020, 1167,  614, 2654, 2901, 2514, 1741, 2532,  917, 1223,  385,\n",
       "         352,  257,  297,  283,  284,  258], dtype=int64)>)"
      ]
     },
     "execution_count": 76,
     "metadata": {},
     "output_type": "execute_result"
    }
   ],
   "source": [
    "X = tf.constant(X)\n",
    "\n",
    "y = tf.constant(y)\n",
    "\n",
    "X, y"
   ]
  },
  {
   "cell_type": "code",
   "execution_count": null,
   "id": "58726aac",
   "metadata": {},
   "outputs": [],
   "source": []
  },
  {
   "cell_type": "code",
   "execution_count": null,
   "id": "132f7465",
   "metadata": {},
   "outputs": [],
   "source": []
  },
  {
   "cell_type": "code",
   "execution_count": null,
   "id": "e62efd6f",
   "metadata": {},
   "outputs": [],
   "source": []
  },
  {
   "cell_type": "code",
   "execution_count": null,
   "id": "d01c31da",
   "metadata": {},
   "outputs": [],
   "source": []
  },
  {
   "cell_type": "code",
   "execution_count": null,
   "id": "8fbcbb01",
   "metadata": {},
   "outputs": [],
   "source": []
  },
  {
   "cell_type": "code",
   "execution_count": null,
   "id": "12abf817",
   "metadata": {},
   "outputs": [],
   "source": []
  },
  {
   "cell_type": "code",
   "execution_count": 107,
   "id": "1a8cec3a",
   "metadata": {},
   "outputs": [],
   "source": [
    "model = tf.keras.Sequential([\n",
    "    tf.keras.layers.Dense(50, input_shape=[1,]),\n",
    "    tf.keras.layers.Dense(1)\n",
    "])\n",
    "                          \n",
    "\n",
    "#    tf.keras.layers.Dense(50, input_shape=[1])\n",
    "#])"
   ]
  },
  {
   "cell_type": "code",
   "execution_count": 108,
   "id": "8a81aabf",
   "metadata": {},
   "outputs": [],
   "source": [
    "model.compile(loss=tf.keras.losses.mae,\n",
    "             optimizer=tf.keras.optimizers.SGD(),\n",
    "             metrics=[\"mae\"])"
   ]
  },
  {
   "cell_type": "code",
   "execution_count": 109,
   "id": "af114c85",
   "metadata": {},
   "outputs": [],
   "source": [
    "#  Model must be created and compiled with the same DistStrat.\n",
    "# TypeError: Invalid keyword argument(s) in `compile`: {'optmizer'}"
   ]
  },
  {
   "cell_type": "code",
   "execution_count": 110,
   "id": "e4b6a50c",
   "metadata": {
    "scrolled": true
   },
   "outputs": [
    {
     "name": "stdout",
     "output_type": "stream",
     "text": [
      "Epoch 1/5\n",
      "1/1 [==============================] - 0s 1ms/step - loss: 1332.6716 - mae: 1332.6716\n",
      "Epoch 2/5\n",
      "1/1 [==============================] - 0s 1ms/step - loss: 75290.8984 - mae: 75290.8984\n",
      "Epoch 3/5\n",
      "1/1 [==============================] - 0s 1ms/step - loss: 3966793.7500 - mae: 3966793.7500\n",
      "Epoch 4/5\n",
      "1/1 [==============================] - 0s 0s/step - loss: 245458464.0000 - mae: 245458464.0000\n",
      "Epoch 5/5\n",
      "1/1 [==============================] - 0s 0s/step - loss: 66565222400.0000 - mae: 66565222400.0000\n"
     ]
    },
    {
     "data": {
      "text/plain": [
       "<tensorflow.python.keras.callbacks.History at 0x21e600105f8>"
      ]
     },
     "execution_count": 110,
     "metadata": {},
     "output_type": "execute_result"
    }
   ],
   "source": [
    "model.fit(X,y, epochs=5)"
   ]
  },
  {
   "cell_type": "code",
   "execution_count": 111,
   "id": "bc901743",
   "metadata": {},
   "outputs": [
    {
     "name": "stdout",
     "output_type": "stream",
     "text": [
      "WARNING:tensorflow:8 out of the last 13 calls to <function Model.make_predict_function.<locals>.predict_function at 0x0000021E6006DBF8> triggered tf.function retracing. Tracing is expensive and the excessive number of tracings could be due to (1) creating @tf.function repeatedly in a loop, (2) passing tensors with different shapes, (3) passing Python objects instead of tensors. For (1), please define your @tf.function outside of the loop. For (2), @tf.function has experimental_relax_shapes=True option that relaxes argument shapes that can avoid unnecessary retracing. For (3), please refer to https://www.tensorflow.org/tutorials/customization/performance#python_or_tensor_args and https://www.tensorflow.org/api_docs/python/tf/function for  more details.\n"
     ]
    },
    {
     "data": {
      "text/plain": [
       "array([[-8.829751e+12]], dtype=float32)"
      ]
     },
     "execution_count": 111,
     "metadata": {},
     "output_type": "execute_result"
    }
   ],
   "source": [
    "model.predict([2450])"
   ]
  },
  {
   "cell_type": "code",
   "execution_count": 115,
   "id": "41b9dc76",
   "metadata": {},
   "outputs": [],
   "source": [
    "import tensorflow as tf\n",
    "from tensorflow import keras"
   ]
  },
  {
   "cell_type": "code",
   "execution_count": 116,
   "id": "b29c10c0",
   "metadata": {},
   "outputs": [],
   "source": [
    "model = keras.models.Sequential()\n",
    "model.add(keras.layers.Flatten(input_shape=[28, 28]))\n",
    "model.add(keras.layers.Dense(300, activation=\"relu\"))\n",
    "model.add(keras.layers.Dense(100, activation=\"relu\"))\n",
    "model.add(keras.layers.Dense(10, activation=\"softmax\"))"
   ]
  },
  {
   "cell_type": "code",
   "execution_count": 118,
   "id": "20c0c7eb",
   "metadata": {},
   "outputs": [
    {
     "data": {
      "text/plain": [
       "<tf.Tensor: shape=(5, 3), dtype=int32, numpy=\n",
       "array([[10,  7,  2],\n",
       "       [ 7, 10,  5],\n",
       "       [ 7, 10,  5],\n",
       "       [ 7, 10,  5],\n",
       "       [ 7, 10,  5]])>"
      ]
     },
     "execution_count": 118,
     "metadata": {},
     "output_type": "execute_result"
    }
   ],
   "source": [
    "matrix = tf.constant([[10,7,2], \n",
    "                      [7,10,5],\n",
    "                      [7,10,5],\n",
    "                      [7,10,5],\n",
    "                      [7,10,5]])\n",
    "\n",
    "matrix"
   ]
  },
  {
   "cell_type": "code",
   "execution_count": null,
   "id": "b084e6b4",
   "metadata": {},
   "outputs": [],
   "source": [
    "https://www.google.com/search?q=Flatten+keras&sxsrf=ALeKk00UCB94iWO7GWPdDJeH2sgVr83u6w:1627510421612&source=lnms&tbm=isch&sa=X&ved=2ahUKEwjXjbHk5IbyAhV4HrkGHUgDBzUQ_AUoAXoECAEQAw&biw=1920&bih=969"
   ]
  },
  {
   "cell_type": "code",
   "execution_count": null,
   "id": "8a553ee0",
   "metadata": {},
   "outputs": [],
   "source": [
    "https://stackoverflow.com/questions/43237124/what-is-the-role-of-flatten-in-keras"
   ]
  }
 ],
 "metadata": {
  "kernelspec": {
   "display_name": "Python 3",
   "language": "python",
   "name": "python3"
  },
  "language_info": {
   "codemirror_mode": {
    "name": "ipython",
    "version": 3
   },
   "file_extension": ".py",
   "mimetype": "text/x-python",
   "name": "python",
   "nbconvert_exporter": "python",
   "pygments_lexer": "ipython3",
   "version": "3.6.13"
  }
 },
 "nbformat": 4,
 "nbformat_minor": 5
}
